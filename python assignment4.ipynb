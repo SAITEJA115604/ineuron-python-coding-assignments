{
 "cells": [
  {
   "cell_type": "markdown",
   "id": "d1517b92",
   "metadata": {},
   "source": [
    "# Write a Python Program to Find the Factorial of a Number?"
   ]
  },
  {
   "cell_type": "code",
   "execution_count": 3,
   "id": "b426c7d0",
   "metadata": {},
   "outputs": [
    {
     "name": "stdout",
     "output_type": "stream",
     "text": [
      "enter the number4\n",
      "The factorial of 4 is 24\n"
     ]
    }
   ],
   "source": [
    "n = int(input(\"enter the number\"))\n",
    "f = 1\n",
    "if n == 0:\n",
    "    print(\"The factorial of 0 is 1\")\n",
    "else:\n",
    "    for i in range(1,n+1):\n",
    "        f = f * i\n",
    "    print(\"The factorial of\",n,\"is\",f)"
   ]
  },
  {
   "cell_type": "markdown",
   "id": "bdfa072d",
   "metadata": {},
   "source": [
    "# Write a Python Program to Display the multiplication Table?"
   ]
  },
  {
   "cell_type": "code",
   "execution_count": 6,
   "id": "0538ed0d",
   "metadata": {},
   "outputs": [
    {
     "name": "stdout",
     "output_type": "stream",
     "text": [
      "Enter the number50\n",
      "50 x 2 = 100\n",
      "50 x 3 = 150\n",
      "50 x 4 = 200\n",
      "50 x 5 = 250\n",
      "50 x 6 = 300\n",
      "50 x 7 = 350\n",
      "50 x 8 = 400\n",
      "50 x 9 = 450\n",
      "50 x 10 = 500\n",
      "50 x 11 = 550\n",
      "50 x 12 = 600\n",
      "50 x 13 = 650\n",
      "50 x 14 = 700\n",
      "50 x 15 = 750\n",
      "50 x 16 = 800\n",
      "50 x 17 = 850\n",
      "50 x 18 = 900\n",
      "50 x 19 = 950\n"
     ]
    }
   ],
   "source": [
    "n= int(input(\"Enter the number\"))\n",
    "for i in range(2,20):\n",
    "    print(n,\"x\",i,\"=\",n * i)"
   ]
  },
  {
   "cell_type": "markdown",
   "id": "33d61276",
   "metadata": {},
   "source": [
    "# Write a Python Program to Print the Fibonacci sequence?"
   ]
  },
  {
   "cell_type": "code",
   "execution_count": 9,
   "id": "db818d36",
   "metadata": {},
   "outputs": [
    {
     "name": "stdout",
     "output_type": "stream",
     "text": [
      "Enter the value : 5\n",
      "Fibonacci Series:  0 1 1 2 3 "
     ]
    }
   ],
   "source": [
    "n = int(input(\"Enter the value : \"))\n",
    "a = 0\n",
    "b = 1\n",
    "sum = 0\n",
    "count = 1\n",
    "print(\"Fibonacci Series: \", end = \" \")\n",
    "while(count <= n):\n",
    "    print(sum, end = \" \")\n",
    "    count += 1\n",
    "    a = b\n",
    "    b = sum\n",
    "    sum = a + b\n"
   ]
  },
  {
   "cell_type": "markdown",
   "id": "3a04c477",
   "metadata": {},
   "source": [
    "# Write a Python Program to Check Armstrong Number?"
   ]
  },
  {
   "cell_type": "code",
   "execution_count": 2,
   "id": "67c47a1f",
   "metadata": {},
   "outputs": [
    {
     "name": "stdout",
     "output_type": "stream",
     "text": [
      "Enter 3-digit number : 9474\n",
      "It is not an Armstrong number\n"
     ]
    }
   ],
   "source": [
    "num = int(input(\"Enter 3-digit number : \"))\n",
    "sum = 0\n",
    "temp = num\n",
    "while temp > 0:\n",
    "    digit = temp % 10\n",
    "    sum += digit * digit * digit\n",
    "    temp = temp//10\n",
    "if sum==num:\n",
    "    print('It is an Armstrong number')\n",
    "else:\n",
    "    print('It is not an Armstrong number')"
   ]
  },
  {
   "cell_type": "markdown",
   "id": "6911ed37",
   "metadata": {},
   "source": [
    "# Write a Python Program to Find Armstrong Number in an Interval?"
   ]
  },
  {
   "cell_type": "code",
   "execution_count": 9,
   "id": "15c9a1aa",
   "metadata": {},
   "outputs": [
    {
     "name": "stdout",
     "output_type": "stream",
     "text": [
      "153\n",
      "370\n",
      "371\n",
      "407\n",
      "1634\n",
      "8208\n",
      "9474\n"
     ]
    }
   ],
   "source": [
    "for num in range(100,10001):\n",
    "    order = len(str(num))\n",
    "    sum = 0\n",
    "    temp = num\n",
    "    while temp > 0:\n",
    "        digit = temp % 10\n",
    "        sum += digit ** order\n",
    "        temp //= 10\n",
    "\n",
    "    if num == sum:\n",
    "        print(num)"
   ]
  },
  {
   "cell_type": "markdown",
   "id": "a448d066",
   "metadata": {},
   "source": [
    "# Write a Python Program to Find the Sum of Natural Numbers?"
   ]
  },
  {
   "cell_type": "code",
   "execution_count": 11,
   "id": "0877ea64",
   "metadata": {},
   "outputs": [
    {
     "name": "stdout",
     "output_type": "stream",
     "text": [
      "Enter a number: 90\n",
      "The sum of  natural numbers is 4095\n"
     ]
    }
   ],
   "source": [
    "n=int(input(\"Enter a number: \"))\n",
    "sum = 0\n",
    "while(n > 0):\n",
    "    sum=sum+n\n",
    "    n=n-1\n",
    "print(\"The sum of  natural numbers is\",sum)"
   ]
  },
  {
   "cell_type": "code",
   "execution_count": null,
   "id": "c59aa205",
   "metadata": {},
   "outputs": [],
   "source": []
  }
 ],
 "metadata": {
  "kernelspec": {
   "display_name": "Python 3 (ipykernel)",
   "language": "python",
   "name": "python3"
  },
  "language_info": {
   "codemirror_mode": {
    "name": "ipython",
    "version": 3
   },
   "file_extension": ".py",
   "mimetype": "text/x-python",
   "name": "python",
   "nbconvert_exporter": "python",
   "pygments_lexer": "ipython3",
   "version": "3.9.12"
  }
 },
 "nbformat": 4,
 "nbformat_minor": 5
}
