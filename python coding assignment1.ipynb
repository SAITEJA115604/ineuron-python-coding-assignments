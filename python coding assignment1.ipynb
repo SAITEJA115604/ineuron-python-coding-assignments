{
 "cells": [
  {
   "cell_type": "markdown",
   "id": "7bc18621",
   "metadata": {},
   "source": [
    "# 1.Write a Python program to print \"Hello Python\"?"
   ]
  },
  {
   "cell_type": "code",
   "execution_count": null,
   "id": "4196a0d0",
   "metadata": {},
   "outputs": [],
   "source": [
    "print(\"Hello Python\")"
   ]
  },
  {
   "cell_type": "markdown",
   "id": "77acff5a",
   "metadata": {},
   "source": [
    "# 2.Write a Python program to do arithmetical operations addition and division.?\n"
   ]
  },
  {
   "cell_type": "code",
   "execution_count": 1,
   "id": "3ce761f8",
   "metadata": {},
   "outputs": [
    {
     "name": "stdout",
     "output_type": "stream",
     "text": [
      "Enter the number: 8\n",
      "Enter the number: 2\n",
      "10\n",
      "4.0\n"
     ]
    }
   ],
   "source": [
    "a= int(input(\"Enter the number: \"))\n",
    "b = int(input(\"Enter the number: \"))\n",
    "c=a+b\n",
    "d= a/b\n",
    "print(c)\n",
    "print(d)"
   ]
  },
  {
   "cell_type": "markdown",
   "id": "03afff3e",
   "metadata": {},
   "source": [
    "# 3.Write a Python program to find the area of a triangle?"
   ]
  },
  {
   "cell_type": "code",
   "execution_count": 2,
   "id": "5e28dfe6",
   "metadata": {},
   "outputs": [
    {
     "name": "stdout",
     "output_type": "stream",
     "text": [
      "Enter the breadth:6\n",
      "Enter the height:4\n",
      "12.0\n"
     ]
    }
   ],
   "source": [
    "b = int(input(\"Enter the breadth:\"))\n",
    "h = int(input(\"Enter the height:\"))\n",
    "area = 1/2*b*h\n",
    "print(area)"
   ]
  },
  {
   "cell_type": "markdown",
   "id": "67d4ef08",
   "metadata": {},
   "source": [
    "# 4.Write a Python program to swap two variables?"
   ]
  },
  {
   "cell_type": "code",
   "execution_count": 4,
   "id": "b7eba4f9",
   "metadata": {},
   "outputs": [
    {
     "name": "stdout",
     "output_type": "stream",
     "text": [
      "Enter the number:5\n",
      "Enter the number:4\n",
      "a = 4\n",
      "b = 5\n"
     ]
    }
   ],
   "source": [
    "a= int(input(\"Enter the number:\"))\n",
    "b = int(input(\"Enter the number:\"))\n",
    "# c= int(input(\"Enter the number:\"))\n",
    "# d = int(input(\"Enter the number:\"))\n",
    "a,b = b,a\n",
    "print(\"a =\", a)\n",
    "print(\"b =\", b)\n",
    "# print(c)\n",
    "# print(d)"
   ]
  },
  {
   "cell_type": "markdown",
   "id": "d8f47628",
   "metadata": {},
   "source": [
    "# Write a Python program to generate a random number?"
   ]
  },
  {
   "cell_type": "code",
   "execution_count": 6,
   "id": "5778e20e",
   "metadata": {},
   "outputs": [
    {
     "name": "stdout",
     "output_type": "stream",
     "text": [
      "3\n"
     ]
    }
   ],
   "source": [
    "import random\n",
    "r1= random.randint(0,10)\n",
    "print(r1)"
   ]
  },
  {
   "cell_type": "code",
   "execution_count": null,
   "id": "90a9f0e3",
   "metadata": {},
   "outputs": [],
   "source": []
  }
 ],
 "metadata": {
  "kernelspec": {
   "display_name": "Python 3 (ipykernel)",
   "language": "python",
   "name": "python3"
  },
  "language_info": {
   "codemirror_mode": {
    "name": "ipython",
    "version": 3
   },
   "file_extension": ".py",
   "mimetype": "text/x-python",
   "name": "python",
   "nbconvert_exporter": "python",
   "pygments_lexer": "ipython3",
   "version": "3.9.12"
  }
 },
 "nbformat": 4,
 "nbformat_minor": 5
}
