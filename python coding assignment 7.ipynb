{
 "cells": [
  {
   "cell_type": "markdown",
   "id": "ec0afb4e",
   "metadata": {},
   "source": [
    "# Write a Python Program to find sum of array?"
   ]
  },
  {
   "cell_type": "code",
   "execution_count": 1,
   "id": "177db4bf",
   "metadata": {},
   "outputs": [
    {
     "name": "stdout",
     "output_type": "stream",
     "text": [
      "Sum of the array is 34\n"
     ]
    }
   ],
   "source": [
    "def array_sum(arr):  \n",
    "    s = 0\n",
    "    for i in range(0, len(arr)): \n",
    "        s += arr[i] \n",
    "    return s \n",
    "arr = [12, 3, 4, 15] \n",
    "print(\"Sum of the array is\", array_sum(arr))"
   ]
  },
  {
   "cell_type": "markdown",
   "id": "68266f61",
   "metadata": {},
   "source": [
    "# Write a Python Program to find largest element in an array?"
   ]
  },
  {
   "cell_type": "code",
   "execution_count": 7,
   "id": "96a7ce36",
   "metadata": {},
   "outputs": [
    {
     "name": "stdout",
     "output_type": "stream",
     "text": [
      "Largest element is: 4\n"
     ]
    }
   ],
   "source": [
    "lst = [10, 20, 4, 45, 99] \n",
    "lst.sort(reverse=True) \n",
    "print(\"Largest element is:\", lst[-1])"
   ]
  },
  {
   "cell_type": "markdown",
   "id": "a7779e9e",
   "metadata": {},
   "source": [
    "# Write a Python Program for array rotation?"
   ]
  },
  {
   "cell_type": "code",
   "execution_count": 14,
   "id": "190c788d",
   "metadata": {},
   "outputs": [
    {
     "name": "stdout",
     "output_type": "stream",
     "text": [
      "[3, 4, 5, 6, 1, 2, 2]\n"
     ]
    }
   ],
   "source": [
    "def Rotate(arr, d): \n",
    "    for i in range(d): \n",
    "        RotatebyOne(arr) \n",
    "def RotatebyOne(arr): \n",
    "    temp = arr[0] \n",
    "    for i in range(len(arr)-1): \n",
    "        arr[i] = arr[i + 1] \n",
    "        arr[len(arr)-1] = temp \n",
    "arr = [1, 2, 3, 4, 5, 6, 7] \n",
    "Rotate(arr, 2) \n",
    "print(arr)"
   ]
  },
  {
   "cell_type": "markdown",
   "id": "018be9e4",
   "metadata": {},
   "source": [
    "# Write a Python Program to Split the array and add the first part to the end?"
   ]
  },
  {
   "cell_type": "code",
   "execution_count": 16,
   "id": "1515c643",
   "metadata": {},
   "outputs": [
    {
     "name": "stdout",
     "output_type": "stream",
     "text": [
      "15 16 50 15 40 40 "
     ]
    }
   ],
   "source": [
    "def split_array(arr, n, k):\n",
    "    for i in range(0, k):\n",
    "        x = arr[0]\n",
    "        for j in range(0, n-1):\n",
    "            arr[j] = arr[j + 1]\n",
    "            arr[n-1] = x\n",
    "arr = [15, 40, 15, 16, 50, 36]\n",
    "n = len(arr)\n",
    "position = 2\n",
    "split_array(arr, n, position)\n",
    "for i in range(0, n):\n",
    "    print(arr[i], end = ' ')"
   ]
  },
  {
   "cell_type": "markdown",
   "id": "e9f06ae5",
   "metadata": {},
   "source": [
    "# Write a Python Program to check if given array is Monotonic?"
   ]
  },
  {
   "cell_type": "code",
   "execution_count": 20,
   "id": "704dd890",
   "metadata": {},
   "outputs": [
    {
     "name": "stdout",
     "output_type": "stream",
     "text": [
      "No\n"
     ]
    }
   ],
   "source": [
    "def monotonic(a): \n",
    "    if len(a) == 0: \n",
    "        return False\n",
    "    if len(a) == 1: \n",
    "        return True\n",
    "    store_sign = (a[0] - a[1]) > 0\n",
    "    for i in range(1, len(a) - 1): \n",
    "        curr_sign = (a[i] - a[i + 1]) > 0\n",
    "        if curr_sign != store_sign: \n",
    "            return False\n",
    "    return True\n",
    "a = [66, 5, 4, 4,6,8] \n",
    "if monotonic(a): \n",
    "    print(\"Yes\") \n",
    "else: \n",
    "    print(\"No\")"
   ]
  },
  {
   "cell_type": "code",
   "execution_count": null,
   "id": "7d2ee609",
   "metadata": {},
   "outputs": [],
   "source": []
  }
 ],
 "metadata": {
  "kernelspec": {
   "display_name": "Python 3 (ipykernel)",
   "language": "python",
   "name": "python3"
  },
  "language_info": {
   "codemirror_mode": {
    "name": "ipython",
    "version": 3
   },
   "file_extension": ".py",
   "mimetype": "text/x-python",
   "name": "python",
   "nbconvert_exporter": "python",
   "pygments_lexer": "ipython3",
   "version": "3.9.12"
  }
 },
 "nbformat": 4,
 "nbformat_minor": 5
}
