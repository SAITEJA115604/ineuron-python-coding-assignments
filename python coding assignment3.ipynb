{
 "cells": [
  {
   "cell_type": "markdown",
   "id": "97cd7043",
   "metadata": {},
   "source": [
    "# 1.Write a Python Program to Check if a Number is Positive, Negative or Zero?"
   ]
  },
  {
   "cell_type": "code",
   "execution_count": 2,
   "id": "b503eee7",
   "metadata": {},
   "outputs": [
    {
     "name": "stdout",
     "output_type": "stream",
     "text": [
      "enter the number: -5\n",
      "Its a negative number\n"
     ]
    }
   ],
   "source": [
    "b = int(input(\"enter the number: \"))\n",
    "if b > 0:\n",
    "    print( \"its a postive a number \" )\n",
    "elif b == 0:\n",
    "    print( \"zero\" )\n",
    "else:\n",
    "    print(\"Its a negative number\" )\n"
   ]
  },
  {
   "cell_type": "markdown",
   "id": "9cfcb959",
   "metadata": {},
   "source": [
    "# Write a Python Program to Check if a Number is Odd or Even?"
   ]
  },
  {
   "cell_type": "code",
   "execution_count": 4,
   "id": "2557371f",
   "metadata": {},
   "outputs": [
    {
     "name": "stdout",
     "output_type": "stream",
     "text": [
      "Enter the number :1\n",
      "Odd number\n"
     ]
    }
   ],
   "source": [
    "c = int(input(\"Enter the number :\"))\n",
    "if (c%2 == 0):\n",
    "    print(\"Even number\")\n",
    "else:\n",
    "    print(\"Odd number\")"
   ]
  },
  {
   "cell_type": "markdown",
   "id": "dddaaa06",
   "metadata": {},
   "source": [
    "# Write a Python Program to Check Leap Year?"
   ]
  },
  {
   "cell_type": "code",
   "execution_count": 5,
   "id": "87989cc8",
   "metadata": {},
   "outputs": [
    {
     "name": "stdout",
     "output_type": "stream",
     "text": [
      "Enter the year:2000\n",
      "It is a leap year\n"
     ]
    }
   ],
   "source": [
    "y = int((input(\"Enter the year:\")))\n",
    "if (y % 400 == 0) or  (y % 100 != 0) and (y % 4 == 0 ): \n",
    "    print(\"It is a leap year\")\n",
    "else:\n",
    "    print(\"It is not a leap year\")\n"
   ]
  },
  {
   "cell_type": "markdown",
   "id": "9ffb0c2e",
   "metadata": {},
   "source": [
    "# Write a Python Program to Check Prime Number?"
   ]
  },
  {
   "cell_type": "code",
   "execution_count": 32,
   "id": "0968285c",
   "metadata": {},
   "outputs": [
    {
     "name": "stdout",
     "output_type": "stream",
     "text": [
      "enter the number: 2\n",
      "2 it is   a prime number\n"
     ]
    }
   ],
   "source": [
    "n = int(input(\"enter the number: \"))\n",
    "if n > 1:\n",
    "    for i in range(2,n):\n",
    "        if (n % i) == 0:\n",
    "            print(n,\"its not  a prime number\")\n",
    "            break\n",
    "    else:\n",
    "        print(n,\"it is   a prime number\")\n",
    "else:\n",
    "    (n, \"it is not a prime number\")"
   ]
  },
  {
   "cell_type": "markdown",
   "id": "2815c3c3",
   "metadata": {},
   "source": [
    "# Write a Python Program to Print all Prime Numbers in an Interval of 1-10000?"
   ]
  },
  {
   "cell_type": "code",
   "execution_count": 36,
   "id": "ec1ba97a",
   "metadata": {},
   "outputs": [
    {
     "name": "stdout",
     "output_type": "stream",
     "text": [
      "2 its a prime number!\n",
      "3 its a prime number!\n",
      "5 its a prime number!\n",
      "7 its a prime number!\n",
      "11 its a prime number!\n",
      "13 its a prime number!\n",
      "17 its a prime number!\n",
      "19 its a prime number!\n",
      "23 its a prime number!\n",
      "29 its a prime number!\n",
      "31 its a prime number!\n",
      "37 its a prime number!\n",
      "41 its a prime number!\n",
      "43 its a prime number!\n",
      "47 its a prime number!\n",
      "53 its a prime number!\n",
      "59 its a prime number!\n",
      "61 its a prime number!\n",
      "67 its a prime number!\n",
      "71 its a prime number!\n",
      "73 its a prime number!\n",
      "79 its a prime number!\n",
      "83 its a prime number!\n",
      "89 its a prime number!\n",
      "97 its a prime number!\n",
      "101 its a prime number!\n",
      "103 its a prime number!\n",
      "107 its a prime number!\n",
      "109 its a prime number!\n",
      "113 its a prime number!\n",
      "127 its a prime number!\n",
      "131 its a prime number!\n",
      "137 its a prime number!\n",
      "139 its a prime number!\n",
      "149 its a prime number!\n",
      "151 its a prime number!\n",
      "157 its a prime number!\n",
      "163 its a prime number!\n",
      "167 its a prime number!\n",
      "173 its a prime number!\n",
      "179 its a prime number!\n",
      "181 its a prime number!\n",
      "191 its a prime number!\n",
      "193 its a prime number!\n",
      "197 its a prime number!\n",
      "199 its a prime number!\n",
      "211 its a prime number!\n",
      "223 its a prime number!\n",
      "227 its a prime number!\n",
      "229 its a prime number!\n",
      "233 its a prime number!\n",
      "239 its a prime number!\n",
      "241 its a prime number!\n",
      "251 its a prime number!\n",
      "257 its a prime number!\n",
      "263 its a prime number!\n",
      "269 its a prime number!\n",
      "271 its a prime number!\n",
      "277 its a prime number!\n",
      "281 its a prime number!\n",
      "283 its a prime number!\n",
      "293 its a prime number!\n",
      "307 its a prime number!\n",
      "311 its a prime number!\n",
      "313 its a prime number!\n",
      "317 its a prime number!\n",
      "331 its a prime number!\n",
      "337 its a prime number!\n",
      "347 its a prime number!\n",
      "349 its a prime number!\n",
      "353 its a prime number!\n",
      "359 its a prime number!\n",
      "367 its a prime number!\n",
      "373 its a prime number!\n",
      "379 its a prime number!\n",
      "383 its a prime number!\n",
      "389 its a prime number!\n",
      "397 its a prime number!\n",
      "401 its a prime number!\n",
      "409 its a prime number!\n",
      "419 its a prime number!\n",
      "421 its a prime number!\n",
      "431 its a prime number!\n",
      "433 its a prime number!\n",
      "439 its a prime number!\n",
      "443 its a prime number!\n",
      "449 its a prime number!\n",
      "457 its a prime number!\n",
      "461 its a prime number!\n",
      "463 its a prime number!\n",
      "467 its a prime number!\n",
      "479 its a prime number!\n",
      "487 its a prime number!\n",
      "491 its a prime number!\n",
      "499 its a prime number!\n",
      "503 its a prime number!\n",
      "509 its a prime number!\n",
      "521 its a prime number!\n",
      "523 its a prime number!\n",
      "541 its a prime number!\n",
      "547 its a prime number!\n",
      "557 its a prime number!\n",
      "563 its a prime number!\n",
      "569 its a prime number!\n",
      "571 its a prime number!\n",
      "577 its a prime number!\n",
      "587 its a prime number!\n",
      "593 its a prime number!\n",
      "599 its a prime number!\n",
      "601 its a prime number!\n",
      "607 its a prime number!\n",
      "613 its a prime number!\n",
      "617 its a prime number!\n",
      "619 its a prime number!\n",
      "631 its a prime number!\n",
      "641 its a prime number!\n",
      "643 its a prime number!\n",
      "647 its a prime number!\n",
      "653 its a prime number!\n",
      "659 its a prime number!\n",
      "661 its a prime number!\n",
      "673 its a prime number!\n",
      "677 its a prime number!\n",
      "683 its a prime number!\n",
      "691 its a prime number!\n",
      "701 its a prime number!\n",
      "709 its a prime number!\n",
      "719 its a prime number!\n",
      "727 its a prime number!\n",
      "733 its a prime number!\n",
      "739 its a prime number!\n",
      "743 its a prime number!\n",
      "751 its a prime number!\n",
      "757 its a prime number!\n",
      "761 its a prime number!\n",
      "769 its a prime number!\n",
      "773 its a prime number!\n",
      "787 its a prime number!\n",
      "797 its a prime number!\n",
      "809 its a prime number!\n",
      "811 its a prime number!\n",
      "821 its a prime number!\n",
      "823 its a prime number!\n",
      "827 its a prime number!\n",
      "829 its a prime number!\n",
      "839 its a prime number!\n",
      "853 its a prime number!\n",
      "857 its a prime number!\n",
      "859 its a prime number!\n",
      "863 its a prime number!\n",
      "877 its a prime number!\n",
      "881 its a prime number!\n",
      "883 its a prime number!\n",
      "887 its a prime number!\n",
      "907 its a prime number!\n",
      "911 its a prime number!\n",
      "919 its a prime number!\n",
      "929 its a prime number!\n",
      "937 its a prime number!\n",
      "941 its a prime number!\n",
      "947 its a prime number!\n",
      "953 its a prime number!\n",
      "967 its a prime number!\n",
      "971 its a prime number!\n",
      "977 its a prime number!\n",
      "983 its a prime number!\n",
      "991 its a prime number!\n",
      "997 its a prime number!\n"
     ]
    }
   ],
   "source": [
    "for na in range (1,1001):\n",
    "    if na > 1:\n",
    "        for i in range(2,na):\n",
    "            if (na % i) == 0:\n",
    "                break\n",
    "        else:\n",
    "            print(na,\"its a prime number!\")\n",
    "    "
   ]
  },
  {
   "cell_type": "code",
   "execution_count": null,
   "id": "3c51aa8d",
   "metadata": {},
   "outputs": [],
   "source": []
  }
 ],
 "metadata": {
  "kernelspec": {
   "display_name": "Python 3 (ipykernel)",
   "language": "python",
   "name": "python3"
  },
  "language_info": {
   "codemirror_mode": {
    "name": "ipython",
    "version": 3
   },
   "file_extension": ".py",
   "mimetype": "text/x-python",
   "name": "python",
   "nbconvert_exporter": "python",
   "pygments_lexer": "ipython3",
   "version": "3.9.12"
  }
 },
 "nbformat": 4,
 "nbformat_minor": 5
}
