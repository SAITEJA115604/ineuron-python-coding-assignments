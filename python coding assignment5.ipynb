{
 "cells": [
  {
   "cell_type": "markdown",
   "id": "bb1edaf7",
   "metadata": {},
   "source": [
    "# Write a Python Program to Find LCM?"
   ]
  },
  {
   "cell_type": "code",
   "execution_count": 1,
   "id": "642feda1",
   "metadata": {},
   "outputs": [
    {
     "name": "stdout",
     "output_type": "stream",
     "text": [
      "Enter the first number:2\n",
      "Enter the second number:3\n",
      "LCM is: 6\n"
     ]
    }
   ],
   "source": [
    "a=int(input(\"Enter the first number:\"))\n",
    "b=int(input(\"Enter the second number:\"))\n",
    "if(a>b):\n",
    "    min1=a\n",
    "else:\n",
    "    min1=b\n",
    "while(1):\n",
    "    if(min1%a==0 and min1%b==0):\n",
    "        print(\"LCM is:\",min1)\n",
    "        break\n",
    "    min1=min1+1"
   ]
  },
  {
   "cell_type": "markdown",
   "id": "1f9157f8",
   "metadata": {},
   "source": [
    "# Write a Python Program to Find HCF?"
   ]
  },
  {
   "cell_type": "code",
   "execution_count": 2,
   "id": "b65335e7",
   "metadata": {},
   "outputs": [
    {
     "name": "stdout",
     "output_type": "stream",
     "text": [
      "Enter the first number:5\n",
      "Enter the second number:2\n",
      "Hcf of 5 and 2 is 1\n"
     ]
    }
   ],
   "source": [
    "c=int(input(\"Enter the first number:\"))\n",
    "d=int(input(\"Enter the second number:\"))\n",
    "hcf = 1\n",
    "\n",
    "for i in range(1, min(c, d)):\n",
    "    if c % i == 0 and d % i == 0:\n",
    "        hcf = i\n",
    "print(\"Hcf of\", c, \"and\", d, \"is\", hcf)"
   ]
  },
  {
   "cell_type": "markdown",
   "id": "5259301c",
   "metadata": {},
   "source": [
    "# Write a Python Program to Convert Decimal to Binary, Octal and Hexadecimal?"
   ]
  },
  {
   "cell_type": "code",
   "execution_count": 4,
   "id": "0f935d74",
   "metadata": {},
   "outputs": [
    {
     "name": "stdout",
     "output_type": "stream",
     "text": [
      "Enter the first number:2\n",
      "0b10\n",
      "0o2\n",
      "0x2\n"
     ]
    }
   ],
   "source": [
    "de = int(input(\"Enter the first number:\"))\n",
    "print(bin(de))\n",
    "print(oct(de))\n",
    "print(hex(de))"
   ]
  },
  {
   "cell_type": "markdown",
   "id": "a27a54cf",
   "metadata": {},
   "source": [
    "# Write a Python Program To Find ASCII value of a character?"
   ]
  },
  {
   "cell_type": "code",
   "execution_count": 7,
   "id": "08eaeb73",
   "metadata": {},
   "outputs": [
    {
     "name": "stdout",
     "output_type": "stream",
     "text": [
      "Please enter a character: j\n",
      "The ASCII value of char j is:  106\n"
     ]
    }
   ],
   "source": [
    "K = input(\"Please enter a character: \")\n",
    "print(\"The ASCII value of char \" + K + \" is: \",ord(K))"
   ]
  },
  {
   "cell_type": "markdown",
   "id": "a0bc60f8",
   "metadata": {},
   "source": [
    "# Write a Python Program to Make a Simple Calculator with 4 basic mathematical operations?"
   ]
  },
  {
   "cell_type": "code",
   "execution_count": 8,
   "id": "e01a77ae",
   "metadata": {},
   "outputs": [
    {
     "name": "stdout",
     "output_type": "stream",
     "text": [
      "Enter the  number:8\n",
      "Enter the  number:2\n",
      "10\n",
      "6\n",
      "16\n",
      "4.0\n"
     ]
    }
   ],
   "source": [
    "g = int(input(\"Enter the  number:\"))\n",
    "h = int(input(\"Enter the  number:\"))\n",
    "print(g+h)\n",
    "print(g-h)\n",
    "print(g*h)\n",
    "print(g/h)"
   ]
  },
  {
   "cell_type": "code",
   "execution_count": null,
   "id": "a8341b5d",
   "metadata": {},
   "outputs": [],
   "source": []
  }
 ],
 "metadata": {
  "kernelspec": {
   "display_name": "Python 3 (ipykernel)",
   "language": "python",
   "name": "python3"
  },
  "language_info": {
   "codemirror_mode": {
    "name": "ipython",
    "version": 3
   },
   "file_extension": ".py",
   "mimetype": "text/x-python",
   "name": "python",
   "nbconvert_exporter": "python",
   "pygments_lexer": "ipython3",
   "version": "3.9.12"
  }
 },
 "nbformat": 4,
 "nbformat_minor": 5
}
